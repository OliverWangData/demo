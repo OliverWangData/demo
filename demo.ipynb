{
 "cells": [
  {
   "cell_type": "markdown",
   "metadata": {},
   "source": [
    "# Quick Technical Analysis\n",
    "This notebook is a quick technical analysis demonstration. This notebook was built in under a day and serves as a preliminary skills demo. The purpose of the demonstration is to show understanding of data analysis concepts and techniques. Actual coding can be transfered between software (R, Python, Tableau, etc.). Jupyter Markdown is used as GitHub does not render R Markdown files.\n",
    "\n",
    "The core contents of this notebook include:\n",
    "-  Understanding Data and Planning Analysis\n",
    "-  Data Modelling\n",
    "-  Prediction and Forecasting\n",
    "\n",
    "## Libraries\n",
    "Scikit-learn is used for data analysis. Tensorflow is used for data modelling. Pandas is used in place of R for data manipulation. Matplotlib is used for visualising the data. Numpy is used for scientific calculations and formatting."
   ]
  },
  {
   "cell_type": "code",
   "execution_count": 136,
   "metadata": {},
   "outputs": [],
   "source": [
    "import pandas as pd\n",
    "import tensorflow as tf\n",
    "from tensorflow import keras\n",
    "import matplotlib.pyplot as plt\n",
    "import numpy as np"
   ]
  },
  {
   "cell_type": "markdown",
   "metadata": {},
   "source": [
    "## Understanding Data and Planning Analysis\n",
    "We want to start by understand the data we are working with, and coming up with a plan on how to analyse it. A [sample dataset](https://www.ibm.com/communities/analytics/watson-analytics-blog/sales-products-sample-data/) of sales from Watson Analytics is used. Usually we would want some context for the data  (e.g. knowing where the data is pulled from and description for each category), but in this case the dataset does not provide any useful descriptions. That leaves it up to us to make sense of the data.\n",
    "\n",
    "To begin, we want to see what the data actually contains."
   ]
  },
  {
   "cell_type": "code",
   "execution_count": 91,
   "metadata": {
    "scrolled": true
   },
   "outputs": [
    {
     "data": {
      "text/html": [
       "<div>\n",
       "<style scoped>\n",
       "    .dataframe tbody tr th:only-of-type {\n",
       "        vertical-align: middle;\n",
       "    }\n",
       "\n",
       "    .dataframe tbody tr th {\n",
       "        vertical-align: top;\n",
       "    }\n",
       "\n",
       "    .dataframe thead th {\n",
       "        text-align: right;\n",
       "    }\n",
       "</style>\n",
       "<table border=\"1\" class=\"dataframe\">\n",
       "  <thead>\n",
       "    <tr style=\"text-align: right;\">\n",
       "      <th></th>\n",
       "      <th>Retailer country</th>\n",
       "      <th>Order method type</th>\n",
       "      <th>Retailer type</th>\n",
       "      <th>Product line</th>\n",
       "      <th>Product type</th>\n",
       "      <th>Product</th>\n",
       "      <th>Year</th>\n",
       "      <th>Quarter</th>\n",
       "      <th>Revenue</th>\n",
       "      <th>Quantity</th>\n",
       "      <th>Gross margin</th>\n",
       "    </tr>\n",
       "  </thead>\n",
       "  <tbody>\n",
       "    <tr>\n",
       "      <th>0</th>\n",
       "      <td>United States</td>\n",
       "      <td>Fax</td>\n",
       "      <td>Outdoors Shop</td>\n",
       "      <td>Camping Equipment</td>\n",
       "      <td>Cooking Gear</td>\n",
       "      <td>TrailChef Deluxe Cook Set</td>\n",
       "      <td>2012</td>\n",
       "      <td>Q1 2012</td>\n",
       "      <td>59628.66</td>\n",
       "      <td>489</td>\n",
       "      <td>0.347548</td>\n",
       "    </tr>\n",
       "    <tr>\n",
       "      <th>1</th>\n",
       "      <td>United States</td>\n",
       "      <td>Fax</td>\n",
       "      <td>Outdoors Shop</td>\n",
       "      <td>Camping Equipment</td>\n",
       "      <td>Cooking Gear</td>\n",
       "      <td>TrailChef Double Flame</td>\n",
       "      <td>2012</td>\n",
       "      <td>Q1 2012</td>\n",
       "      <td>35950.32</td>\n",
       "      <td>252</td>\n",
       "      <td>0.474274</td>\n",
       "    </tr>\n",
       "    <tr>\n",
       "      <th>2</th>\n",
       "      <td>United States</td>\n",
       "      <td>Fax</td>\n",
       "      <td>Outdoors Shop</td>\n",
       "      <td>Camping Equipment</td>\n",
       "      <td>Tents</td>\n",
       "      <td>Star Dome</td>\n",
       "      <td>2012</td>\n",
       "      <td>Q1 2012</td>\n",
       "      <td>89940.48</td>\n",
       "      <td>147</td>\n",
       "      <td>0.352772</td>\n",
       "    </tr>\n",
       "    <tr>\n",
       "      <th>3</th>\n",
       "      <td>United States</td>\n",
       "      <td>Fax</td>\n",
       "      <td>Outdoors Shop</td>\n",
       "      <td>Camping Equipment</td>\n",
       "      <td>Tents</td>\n",
       "      <td>Star Gazer 2</td>\n",
       "      <td>2012</td>\n",
       "      <td>Q1 2012</td>\n",
       "      <td>165883.41</td>\n",
       "      <td>303</td>\n",
       "      <td>0.282938</td>\n",
       "    </tr>\n",
       "    <tr>\n",
       "      <th>4</th>\n",
       "      <td>United States</td>\n",
       "      <td>Fax</td>\n",
       "      <td>Outdoors Shop</td>\n",
       "      <td>Camping Equipment</td>\n",
       "      <td>Sleeping Bags</td>\n",
       "      <td>Hibernator Lite</td>\n",
       "      <td>2012</td>\n",
       "      <td>Q1 2012</td>\n",
       "      <td>119822.20</td>\n",
       "      <td>1415</td>\n",
       "      <td>0.291450</td>\n",
       "    </tr>\n",
       "  </tbody>\n",
       "</table>\n",
       "</div>"
      ],
      "text/plain": [
       "  Retailer country Order method type  Retailer type       Product line  \\\n",
       "0    United States               Fax  Outdoors Shop  Camping Equipment   \n",
       "1    United States               Fax  Outdoors Shop  Camping Equipment   \n",
       "2    United States               Fax  Outdoors Shop  Camping Equipment   \n",
       "3    United States               Fax  Outdoors Shop  Camping Equipment   \n",
       "4    United States               Fax  Outdoors Shop  Camping Equipment   \n",
       "\n",
       "    Product type                    Product  Year  Quarter    Revenue  \\\n",
       "0   Cooking Gear  TrailChef Deluxe Cook Set  2012  Q1 2012   59628.66   \n",
       "1   Cooking Gear     TrailChef Double Flame  2012  Q1 2012   35950.32   \n",
       "2          Tents                  Star Dome  2012  Q1 2012   89940.48   \n",
       "3          Tents               Star Gazer 2  2012  Q1 2012  165883.41   \n",
       "4  Sleeping Bags            Hibernator Lite  2012  Q1 2012  119822.20   \n",
       "\n",
       "   Quantity  Gross margin  \n",
       "0       489      0.347548  \n",
       "1       252      0.474274  \n",
       "2       147      0.352772  \n",
       "3       303      0.282938  \n",
       "4      1415      0.291450  "
      ]
     },
     "execution_count": 91,
     "metadata": {},
     "output_type": "execute_result"
    }
   ],
   "source": [
    "sales_data = pd.read_csv(\"WA_Sales_Products_2012-14.csv\")\n",
    "sales_data.head(n=5)"
   ]
  },
  {
   "cell_type": "markdown",
   "metadata": {},
   "source": [
    "We can see that the dataset contains a wide variety of categories we may want to perform analysis and model data with. A basic summary of the columns can be a good way to understand the data, make sure the data is already cleaned, and serve as an initial check for some KPI's. Some examples of what we may want to know include:\n",
    "- What Order methods are included in the dataset \n",
    "- The range of revenues in any quarter\n",
    "- The maximum revenue a store in the United States has made in 2012 \n",
    "- The average gross margin of fax based orders\n",
    "- Are there any invalid values / errors for quantity"
   ]
  },
  {
   "cell_type": "code",
   "execution_count": 92,
   "metadata": {
    "scrolled": true
   },
   "outputs": [
    {
     "name": "stdout",
     "output_type": "stream",
     "text": [
      "Order Methods:  ['Fax' 'Telephone' 'Mail' 'Web' 'Sales visit' 'Special' 'E-mail']\n",
      "Range of revenue is between 0.0 and 1635687.96\n",
      "Maximum Revenue in US in 2012:  1210413.68\n",
      "Average Gross Margin for fax orders:  0.4512584834480677\n",
      "Result of invalid values check on quantity:  False\n"
     ]
    }
   ],
   "source": [
    "print(\"Order Methods: \",sales_data['Order method type'].unique())\n",
    "print(\"Range of revenue is between {} and {}\".format(sales_data['Revenue'].min(),sales_data['Revenue'].max(), \" Min: \"))\n",
    "print(\"Maximum Revenue in US in 2012: \",sales_data[sales_data.Year == 2012]['Revenue'].max())\n",
    "print(\"Average Gross Margin for fax orders: \",sales_data[sales_data['Order method type'] == 'Fax']['Gross margin'].mean())\n",
    "print(\"Result of invalid values check on quantity: \",pd.isnull(sales_data['Quantity'].any()))"
   ]
  },
  {
   "cell_type": "markdown",
   "metadata": {},
   "source": [
    "We can also do comparisons of values. For instance, we may want to know the composition of order methods for each country:"
   ]
  },
  {
   "cell_type": "code",
   "execution_count": 93,
   "metadata": {
    "scrolled": false
   },
   "outputs": [
    {
     "data": {
      "image/png": "[encoded data removed]",
      "text/plain": [
       "<Figure size 432x288 with 1 Axes>"
      ]
     },
     "metadata": {
      "needs_background": "light"
     },
     "output_type": "display_data"
    }
   ],
   "source": [
    "countries = sales_data['Retailer country'].unique()\n",
    "methods = sales_data['Order method type'].unique()\n",
    "count_table = np.zeros((len(methods),len(countries)))\n",
    "\n",
    "#Counts number of rows for each method in each country\n",
    "for m in range(len(methods)):\n",
    "    for c in range(len(countries)):\n",
    "        count_table[m-1,c-1] = sales_data[(sales_data['Retailer country'] == countries[c-1]) & (sales_data['Order method type'] == methods[m-1])]['Revenue'].mean()\n",
    "        if np.isnan(count_table[m-1,c-1]):\n",
    "            count_table[m-1,c-1] = 0\n",
    "\n",
    "#Normalizes the value of counts\n",
    "for c in range(len(countries)):\n",
    "    col_max = count_table[:,c-1].max()\n",
    "    for m in range(len(methods)):\n",
    "        count_table[m-1,c-1] = count_table[m-1,c-1] / col_max\n",
    "\n",
    "x = np.arange(len(countries))\n",
    "for m in range(len(methods)): \n",
    "    plt.bar(x, count_table[m-1,:])\n",
    "plt.legend(methods, loc = 'right', bbox_to_anchor=(1.3,0.5))\n",
    "plt.xticks(x,countries,rotation = 'vertical')\n",
    "plt.show()"
   ]
  },
  {
   "cell_type": "markdown",
   "metadata": {},
   "source": [
    "We can already see some interesting facts about the data, such as Brazil and Spain being dominated by only one method of ordering (We can also easily check if this is true). We can also see that web, telephone, and fax orders only have presence in one respective market each. Depending on the questions we want answered, this can give us a lot of insight and give a plan for analysis. \n",
    "\n",
    "Of course further analysis is always needed to get a better understanding of the data. Just looking at the graph, it seems as though Sales visits and special orders are almost equally important contributors to revenue. However, when we take a closer look at the data..."
   ]
  },
  {
   "cell_type": "code",
   "execution_count": 94,
   "metadata": {
    "scrolled": true
   },
   "outputs": [
    {
     "name": "stdout",
     "output_type": "stream",
     "text": [
      "Sales visit revenue:  209122112.89999998\n",
      "Special order revenue:  13445401.5\n"
     ]
    }
   ],
   "source": [
    "print(\"Sales visit revenue: \",sales_data[sales_data['Order method type'] == 'Sales visit']['Revenue'].sum())\n",
    "print(\"Special order revenue: \",sales_data[sales_data['Order method type'] == 'Special']['Revenue'].sum())"
   ]
  },
  {
   "cell_type": "markdown",
   "metadata": {},
   "source": [
    "We can see that they are quite far apart (about 20 to 1 difference).\n",
    "\n",
    "\n",
    "## Data Modelling\n",
    "\n",
    "We may also be interested in modelling the data. After all, summaries can only go so far, and modelling data can give even more insight into all the interconnected relationships inside the data. Another [sample dataset](https://www.kaggle.com/karangadiya/fifa19) from Kaggle is used. This data contains information about the in-game FIFA 19 player characters (Not real-life customers). "
   ]
  },
  {
   "cell_type": "code",
   "execution_count": 95,
   "metadata": {},
   "outputs": [
    {
     "data": {
      "text/html": [
       "<div>\n",
       "<style scoped>\n",
       "    .dataframe tbody tr th:only-of-type {\n",
       "        vertical-align: middle;\n",
       "    }\n",
       "\n",
       "    .dataframe tbody tr th {\n",
       "        vertical-align: top;\n",
       "    }\n",
       "\n",
       "    .dataframe thead th {\n",
       "        text-align: right;\n",
       "    }\n",
       "</style>\n",
       "<table border=\"1\" class=\"dataframe\">\n",
       "  <thead>\n",
       "    <tr style=\"text-align: right;\">\n",
       "      <th></th>\n",
       "      <th>Unnamed: 0</th>\n",
       "      <th>ID</th>\n",
       "      <th>Name</th>\n",
       "      <th>Age</th>\n",
       "      <th>Photo</th>\n",
       "      <th>Nationality</th>\n",
       "      <th>Flag</th>\n",
       "      <th>Overall</th>\n",
       "      <th>Potential</th>\n",
       "      <th>Club</th>\n",
       "      <th>...</th>\n",
       "      <th>Composure</th>\n",
       "      <th>Marking</th>\n",
       "      <th>StandingTackle</th>\n",
       "      <th>SlidingTackle</th>\n",
       "      <th>GKDiving</th>\n",
       "      <th>GKHandling</th>\n",
       "      <th>GKKicking</th>\n",
       "      <th>GKPositioning</th>\n",
       "      <th>GKReflexes</th>\n",
       "      <th>Release Clause</th>\n",
       "    </tr>\n",
       "  </thead>\n",
       "  <tbody>\n",
       "    <tr>\n",
       "      <th>0</th>\n",
       "      <td>0</td>\n",
       "      <td>158023</td>\n",
       "      <td>L. Messi</td>\n",
       "      <td>31</td>\n",
       "      <td>https://cdn.sofifa.org/players/4/19/158023.png</td>\n",
       "      <td>Argentina</td>\n",
       "      <td>https://cdn.sofifa.org/flags/52.png</td>\n",
       "      <td>94</td>\n",
       "      <td>94</td>\n",
       "      <td>FC Barcelona</td>\n",
       "      <td>...</td>\n",
       "      <td>96.0</td>\n",
       "      <td>33.0</td>\n",
       "      <td>28.0</td>\n",
       "      <td>26.0</td>\n",
       "      <td>6.0</td>\n",
       "      <td>11.0</td>\n",
       "      <td>15.0</td>\n",
       "      <td>14.0</td>\n",
       "      <td>8.0</td>\n",
       "      <td>€226.5M</td>\n",
       "    </tr>\n",
       "    <tr>\n",
       "      <th>1</th>\n",
       "      <td>1</td>\n",
       "      <td>20801</td>\n",
       "      <td>Cristiano Ronaldo</td>\n",
       "      <td>33</td>\n",
       "      <td>https://cdn.sofifa.org/players/4/19/20801.png</td>\n",
       "      <td>Portugal</td>\n",
       "      <td>https://cdn.sofifa.org/flags/38.png</td>\n",
       "      <td>94</td>\n",
       "      <td>94</td>\n",
       "      <td>Juventus</td>\n",
       "      <td>...</td>\n",
       "      <td>95.0</td>\n",
       "      <td>28.0</td>\n",
       "      <td>31.0</td>\n",
       "      <td>23.0</td>\n",
       "      <td>7.0</td>\n",
       "      <td>11.0</td>\n",
       "      <td>15.0</td>\n",
       "      <td>14.0</td>\n",
       "      <td>11.0</td>\n",
       "      <td>€127.1M</td>\n",
       "    </tr>\n",
       "    <tr>\n",
       "      <th>2</th>\n",
       "      <td>2</td>\n",
       "      <td>190871</td>\n",
       "      <td>Neymar Jr</td>\n",
       "      <td>26</td>\n",
       "      <td>https://cdn.sofifa.org/players/4/19/190871.png</td>\n",
       "      <td>Brazil</td>\n",
       "      <td>https://cdn.sofifa.org/flags/54.png</td>\n",
       "      <td>92</td>\n",
       "      <td>93</td>\n",
       "      <td>Paris Saint-Germain</td>\n",
       "      <td>...</td>\n",
       "      <td>94.0</td>\n",
       "      <td>27.0</td>\n",
       "      <td>24.0</td>\n",
       "      <td>33.0</td>\n",
       "      <td>9.0</td>\n",
       "      <td>9.0</td>\n",
       "      <td>15.0</td>\n",
       "      <td>15.0</td>\n",
       "      <td>11.0</td>\n",
       "      <td>€228.1M</td>\n",
       "    </tr>\n",
       "    <tr>\n",
       "      <th>3</th>\n",
       "      <td>3</td>\n",
       "      <td>193080</td>\n",
       "      <td>De Gea</td>\n",
       "      <td>27</td>\n",
       "      <td>https://cdn.sofifa.org/players/4/19/193080.png</td>\n",
       "      <td>Spain</td>\n",
       "      <td>https://cdn.sofifa.org/flags/45.png</td>\n",
       "      <td>91</td>\n",
       "      <td>93</td>\n",
       "      <td>Manchester United</td>\n",
       "      <td>...</td>\n",
       "      <td>68.0</td>\n",
       "      <td>15.0</td>\n",
       "      <td>21.0</td>\n",
       "      <td>13.0</td>\n",
       "      <td>90.0</td>\n",
       "      <td>85.0</td>\n",
       "      <td>87.0</td>\n",
       "      <td>88.0</td>\n",
       "      <td>94.0</td>\n",
       "      <td>€138.6M</td>\n",
       "    </tr>\n",
       "    <tr>\n",
       "      <th>4</th>\n",
       "      <td>4</td>\n",
       "      <td>192985</td>\n",
       "      <td>K. De Bruyne</td>\n",
       "      <td>27</td>\n",
       "      <td>https://cdn.sofifa.org/players/4/19/192985.png</td>\n",
       "      <td>Belgium</td>\n",
       "      <td>https://cdn.sofifa.org/flags/7.png</td>\n",
       "      <td>91</td>\n",
       "      <td>92</td>\n",
       "      <td>Manchester City</td>\n",
       "      <td>...</td>\n",
       "      <td>88.0</td>\n",
       "      <td>68.0</td>\n",
       "      <td>58.0</td>\n",
       "      <td>51.0</td>\n",
       "      <td>15.0</td>\n",
       "      <td>13.0</td>\n",
       "      <td>5.0</td>\n",
       "      <td>10.0</td>\n",
       "      <td>13.0</td>\n",
       "      <td>€196.4M</td>\n",
       "    </tr>\n",
       "  </tbody>\n",
       "</table>\n",
       "<p>5 rows × 89 columns</p>\n",
       "</div>"
      ],
      "text/plain": [
       "   Unnamed: 0      ID               Name  Age  \\\n",
       "0           0  158023           L. Messi   31   \n",
       "1           1   20801  Cristiano Ronaldo   33   \n",
       "2           2  190871          Neymar Jr   26   \n",
       "3           3  193080             De Gea   27   \n",
       "4           4  192985       K. De Bruyne   27   \n",
       "\n",
       "                                            Photo Nationality  \\\n",
       "0  https://cdn.sofifa.org/players/4/19/158023.png   Argentina   \n",
       "1   https://cdn.sofifa.org/players/4/19/20801.png    Portugal   \n",
       "2  https://cdn.sofifa.org/players/4/19/190871.png      Brazil   \n",
       "3  https://cdn.sofifa.org/players/4/19/193080.png       Spain   \n",
       "4  https://cdn.sofifa.org/players/4/19/192985.png     Belgium   \n",
       "\n",
       "                                  Flag  Overall  Potential  \\\n",
       "0  https://cdn.sofifa.org/flags/52.png       94         94   \n",
       "1  https://cdn.sofifa.org/flags/38.png       94         94   \n",
       "2  https://cdn.sofifa.org/flags/54.png       92         93   \n",
       "3  https://cdn.sofifa.org/flags/45.png       91         93   \n",
       "4   https://cdn.sofifa.org/flags/7.png       91         92   \n",
       "\n",
       "                  Club  ... Composure Marking StandingTackle  SlidingTackle  \\\n",
       "0         FC Barcelona  ...      96.0    33.0           28.0           26.0   \n",
       "1             Juventus  ...      95.0    28.0           31.0           23.0   \n",
       "2  Paris Saint-Germain  ...      94.0    27.0           24.0           33.0   \n",
       "3    Manchester United  ...      68.0    15.0           21.0           13.0   \n",
       "4      Manchester City  ...      88.0    68.0           58.0           51.0   \n",
       "\n",
       "  GKDiving  GKHandling  GKKicking  GKPositioning GKReflexes Release Clause  \n",
       "0      6.0        11.0       15.0           14.0        8.0        €226.5M  \n",
       "1      7.0        11.0       15.0           14.0       11.0        €127.1M  \n",
       "2      9.0         9.0       15.0           15.0       11.0        €228.1M  \n",
       "3     90.0        85.0       87.0           88.0       94.0        €138.6M  \n",
       "4     15.0        13.0        5.0           10.0       13.0        €196.4M  \n",
       "\n",
       "[5 rows x 89 columns]"
      ]
     },
     "execution_count": 95,
     "metadata": {},
     "output_type": "execute_result"
    }
   ],
   "source": [
    "fifa_data = pd.read_csv(\"FIFA19_data.csv\")\n",
    "fifa_data.head(n=5)"
   ]
  },
  {
   "cell_type": "markdown",
   "metadata": {},
   "source": [
    "Let's consider if FIFA 19 gave real-life players the ability to make their own playable character in FIFA 19! They might give the player a series of challenges in game to determine the character stats, or make it based off the real-life player's lifetime stats. But now we want to determine what the character should cost to the player. Luckily for us, there's a huge set of data with characters, their stats, and their respective wages right at our fingertips.\n",
    "\n",
    "I am going to choose some initial predictor variables to work with due to time constraints, however given enough time for analysis, this does not have to be done. We will use ID, Age, Potential, International Reputation, Preferred Foot, Height, Wage, and Value. "
   ]
  },
  {
   "cell_type": "code",
   "execution_count": 96,
   "metadata": {
    "scrolled": false
   },
   "outputs": [
    {
     "data": {
      "text/html": [
       "<div>\n",
       "<style scoped>\n",
       "    .dataframe tbody tr th:only-of-type {\n",
       "        vertical-align: middle;\n",
       "    }\n",
       "\n",
       "    .dataframe tbody tr th {\n",
       "        vertical-align: top;\n",
       "    }\n",
       "\n",
       "    .dataframe thead th {\n",
       "        text-align: right;\n",
       "    }\n",
       "</style>\n",
       "<table border=\"1\" class=\"dataframe\">\n",
       "  <thead>\n",
       "    <tr style=\"text-align: right;\">\n",
       "      <th></th>\n",
       "      <th>ID</th>\n",
       "      <th>Age</th>\n",
       "      <th>Potential</th>\n",
       "      <th>Value</th>\n",
       "      <th>Wage</th>\n",
       "      <th>International Reputation</th>\n",
       "      <th>Preferred Foot</th>\n",
       "      <th>Height</th>\n",
       "    </tr>\n",
       "  </thead>\n",
       "  <tbody>\n",
       "    <tr>\n",
       "      <th>0</th>\n",
       "      <td>158023</td>\n",
       "      <td>31</td>\n",
       "      <td>94</td>\n",
       "      <td>€110.5M</td>\n",
       "      <td>€565K</td>\n",
       "      <td>5.0</td>\n",
       "      <td>Left</td>\n",
       "      <td>5'7</td>\n",
       "    </tr>\n",
       "    <tr>\n",
       "      <th>1</th>\n",
       "      <td>20801</td>\n",
       "      <td>33</td>\n",
       "      <td>94</td>\n",
       "      <td>€77M</td>\n",
       "      <td>€405K</td>\n",
       "      <td>5.0</td>\n",
       "      <td>Right</td>\n",
       "      <td>6'2</td>\n",
       "    </tr>\n",
       "    <tr>\n",
       "      <th>2</th>\n",
       "      <td>190871</td>\n",
       "      <td>26</td>\n",
       "      <td>93</td>\n",
       "      <td>€118.5M</td>\n",
       "      <td>€290K</td>\n",
       "      <td>5.0</td>\n",
       "      <td>Right</td>\n",
       "      <td>5'9</td>\n",
       "    </tr>\n",
       "    <tr>\n",
       "      <th>3</th>\n",
       "      <td>193080</td>\n",
       "      <td>27</td>\n",
       "      <td>93</td>\n",
       "      <td>€72M</td>\n",
       "      <td>€260K</td>\n",
       "      <td>4.0</td>\n",
       "      <td>Right</td>\n",
       "      <td>6'4</td>\n",
       "    </tr>\n",
       "    <tr>\n",
       "      <th>4</th>\n",
       "      <td>192985</td>\n",
       "      <td>27</td>\n",
       "      <td>92</td>\n",
       "      <td>€102M</td>\n",
       "      <td>€355K</td>\n",
       "      <td>4.0</td>\n",
       "      <td>Right</td>\n",
       "      <td>5'11</td>\n",
       "    </tr>\n",
       "  </tbody>\n",
       "</table>\n",
       "</div>"
      ],
      "text/plain": [
       "       ID  Age  Potential    Value   Wage  International Reputation  \\\n",
       "0  158023   31         94  €110.5M  €565K                       5.0   \n",
       "1   20801   33         94     €77M  €405K                       5.0   \n",
       "2  190871   26         93  €118.5M  €290K                       5.0   \n",
       "3  193080   27         93     €72M  €260K                       4.0   \n",
       "4  192985   27         92    €102M  €355K                       4.0   \n",
       "\n",
       "  Preferred Foot Height  \n",
       "0           Left    5'7  \n",
       "1          Right    6'2  \n",
       "2          Right    5'9  \n",
       "3          Right    6'4  \n",
       "4          Right   5'11  "
      ]
     },
     "execution_count": 96,
     "metadata": {},
     "output_type": "execute_result"
    }
   ],
   "source": [
    "fifa_data_1 = fifa_data[['ID','Age','Potential','Value','Wage','International Reputation','Preferred Foot','Height']]\n",
    "fifa_data_1.head(n=5)"
   ]
  },
  {
   "cell_type": "markdown",
   "metadata": {},
   "source": [
    "### Data Cleaning\n",
    "\n",
    "Now, we want to clean up the data so that all the values are numerical and workable. We will convert any currency value into number in thousands. The height will be converted to inches. We can also give a value to preferred foot: left = 0 and right = 1."
   ]
  },
  {
   "cell_type": "code",
   "execution_count": 97,
   "metadata": {
    "scrolled": true
   },
   "outputs": [
    {
     "data": {
      "text/html": [
       "<div>\n",
       "<style scoped>\n",
       "    .dataframe tbody tr th:only-of-type {\n",
       "        vertical-align: middle;\n",
       "    }\n",
       "\n",
       "    .dataframe tbody tr th {\n",
       "        vertical-align: top;\n",
       "    }\n",
       "\n",
       "    .dataframe thead th {\n",
       "        text-align: right;\n",
       "    }\n",
       "</style>\n",
       "<table border=\"1\" class=\"dataframe\">\n",
       "  <thead>\n",
       "    <tr style=\"text-align: right;\">\n",
       "      <th></th>\n",
       "      <th>ID</th>\n",
       "      <th>Age</th>\n",
       "      <th>Potential</th>\n",
       "      <th>Value</th>\n",
       "      <th>Wage</th>\n",
       "      <th>International Reputation</th>\n",
       "      <th>Preferred Foot</th>\n",
       "      <th>Height</th>\n",
       "    </tr>\n",
       "  </thead>\n",
       "  <tbody>\n",
       "    <tr>\n",
       "      <th>0</th>\n",
       "      <td>158023</td>\n",
       "      <td>31</td>\n",
       "      <td>94</td>\n",
       "      <td>110500</td>\n",
       "      <td>565</td>\n",
       "      <td>5</td>\n",
       "      <td>0</td>\n",
       "      <td>67</td>\n",
       "    </tr>\n",
       "    <tr>\n",
       "      <th>1</th>\n",
       "      <td>20801</td>\n",
       "      <td>33</td>\n",
       "      <td>94</td>\n",
       "      <td>77000</td>\n",
       "      <td>405</td>\n",
       "      <td>5</td>\n",
       "      <td>1</td>\n",
       "      <td>74</td>\n",
       "    </tr>\n",
       "    <tr>\n",
       "      <th>2</th>\n",
       "      <td>190871</td>\n",
       "      <td>26</td>\n",
       "      <td>93</td>\n",
       "      <td>118500</td>\n",
       "      <td>290</td>\n",
       "      <td>5</td>\n",
       "      <td>1</td>\n",
       "      <td>69</td>\n",
       "    </tr>\n",
       "    <tr>\n",
       "      <th>3</th>\n",
       "      <td>193080</td>\n",
       "      <td>27</td>\n",
       "      <td>93</td>\n",
       "      <td>72000</td>\n",
       "      <td>260</td>\n",
       "      <td>4</td>\n",
       "      <td>1</td>\n",
       "      <td>76</td>\n",
       "    </tr>\n",
       "    <tr>\n",
       "      <th>4</th>\n",
       "      <td>192985</td>\n",
       "      <td>27</td>\n",
       "      <td>92</td>\n",
       "      <td>102000</td>\n",
       "      <td>355</td>\n",
       "      <td>4</td>\n",
       "      <td>1</td>\n",
       "      <td>71</td>\n",
       "    </tr>\n",
       "  </tbody>\n",
       "</table>\n",
       "</div>"
      ],
      "text/plain": [
       "       ID Age Potential   Value Wage International Reputation Preferred Foot  \\\n",
       "0  158023  31        94  110500  565                        5              0   \n",
       "1   20801  33        94   77000  405                        5              1   \n",
       "2  190871  26        93  118500  290                        5              1   \n",
       "3  193080  27        93   72000  260                        4              1   \n",
       "4  192985  27        92  102000  355                        4              1   \n",
       "\n",
       "  Height  \n",
       "0     67  \n",
       "1     74  \n",
       "2     69  \n",
       "3     76  \n",
       "4     71  "
      ]
     },
     "execution_count": 97,
     "metadata": {},
     "output_type": "execute_result"
    }
   ],
   "source": [
    "#Data Manipulation and Cleaning Functions\n",
    "def curr_value(input_str):\n",
    "    if input_str[-1] == 'K':\n",
    "        return float(input_str[1:-1])\n",
    "    elif input_str[-1] == 'M':\n",
    "        return (float(input_str[1:-1])*1000)\n",
    "    else:\n",
    "        return 0\n",
    "\n",
    "def foot_value(foot_str):\n",
    "    if foot_str == 'Left':\n",
    "        return 0\n",
    "    elif foot_str == 'Right':\n",
    "        return 1\n",
    "    else:\n",
    "        pass\n",
    "\n",
    "def height_value(height_str):\n",
    "    try:\n",
    "        height_str = height_str.split(\"'\")\n",
    "        return float(height_str[0])*12 + float(height_str[1])\n",
    "    except:\n",
    "        pass\n",
    "\n",
    "#Manipulating Dataframe using Numpy\n",
    "fifa_data_1 = fifa_data_1.dropna().to_numpy() #Shortcut for time management - Not recommended to drop na provided enough time\n",
    "for r in range(fifa_data_1.shape[0]):\n",
    "    fifa_data_1[r-1,3] = curr_value(fifa_data_1[r-1,3])\n",
    "    fifa_data_1[r-1,4] = curr_value(fifa_data_1[r-1,4])\n",
    "    fifa_data_1[r-1,6] = foot_value(fifa_data_1[r-1,6])\n",
    "    fifa_data_1[r-1,7] = height_value(fifa_data_1[r-1,7])\n",
    "\n",
    "#Creates Pandas DataFrame for easy reference\n",
    "clean_fifa = pd.DataFrame(fifa_data_1)\n",
    "clean_fifa = clean_fifa.rename(columns = {0:'ID',1:'Age',2:'Potential',3:'Value',4:'Wage',5:'International Reputation',6:'Preferred Foot',7:'Height'})\n",
    "clean_fifa.head(n=5)"
   ]
  },
  {
   "cell_type": "markdown",
   "metadata": {},
   "source": [
    "### Regression Models and Analysis\n",
    "\n",
    "Now we can begin to fit models with the data. While I am more familiar with data analysis using R, as there are more in depth summaries, graphs, and guides, data analysis can still be performed using SKLearn. "
   ]
  },
  {
   "cell_type": "code",
   "execution_count": 98,
   "metadata": {},
   "outputs": [
    {
     "name": "stdout",
     "output_type": "stream",
     "text": [
      "Intercept:  -19.972913701192056\n",
      "Coefficients:  [2.04784423e-01 2.83035457e-02 2.90176034e-03 9.63382812e+00\n",
      " 6.76358204e-02]\n"
     ]
    }
   ],
   "source": [
    "from sklearn import linear_model\n",
    "lm = linear_model.LinearRegression()\n",
    "X = fifa_data_1[:,[1,2,3,5,7]]\n",
    "Y = fifa_data_1[:,4]\n",
    "lm.fit(X,Y)\n",
    "print(\"Intercept: \",lm.intercept_)\n",
    "print(\"Coefficients: \",lm.coef_)"
   ]
  },
  {
   "cell_type": "markdown",
   "metadata": {},
   "source": [
    "While it may seem that an increase in international reputation has the strongest correlation with increases in wages, we must consider the range of values of each predictor. With a maximum international reputation of 5, the wage can increase by ~48.1929. In contrast, a value of 16609 adds ~48.1947 in this specific model.\n",
    "\n",
    "Scatterplots can give more insight on this interaction."
   ]
  },
  {
   "cell_type": "code",
   "execution_count": 99,
   "metadata": {},
   "outputs": [
    {
     "data": {
      "image/png": "[encoded data removed]",
      "text/plain": [
       "<Figure size 432x288 with 2 Axes>"
      ]
     },
     "metadata": {
      "needs_background": "light"
     },
     "output_type": "display_data"
    }
   ],
   "source": [
    "plt.subplot(1, 2, 1)\n",
    "plt.scatter(fifa_data_1[:,3],Y)\n",
    "plt.xlabel('Value')\n",
    "\n",
    "plt.subplot(1, 2, 2)\n",
    "plt.scatter(fifa_data_1[:,5],Y)\n",
    "plt.xlabel('Int. Reputation')\n",
    "plt.tight_layout()\n",
    "plt.show()"
   ]
  },
  {
   "cell_type": "markdown",
   "metadata": {},
   "source": [
    "We can see that an increase in value increases both the minimum and maximum wages, while increases in reputation only affect the maximum wages. \n",
    "\n",
    "Now let's take a look at height when plotted against wages."
   ]
  },
  {
   "cell_type": "code",
   "execution_count": 100,
   "metadata": {},
   "outputs": [
    {
     "data": {
      "text/plain": [
       "<matplotlib.collections.PathCollection at 0x171df25e0b8>"
      ]
     },
     "execution_count": 100,
     "metadata": {},
     "output_type": "execute_result"
    },
    {
     "data": {
      "image/png": "[encoded data removed]",
      "text/plain": [
       "<Figure size 432x288 with 1 Axes>"
      ]
     },
     "metadata": {
      "needs_background": "light"
     },
     "output_type": "display_data"
    }
   ],
   "source": [
    "plt.scatter(fifa_data_1[:,7],Y)"
   ]
  },
  {
   "cell_type": "markdown",
   "metadata": {},
   "source": [
    "From first glance, it may appear as though outliers for height (those who are extremely short or extremely tall) are at a disadvantage when it comes to wages. However we should also consider that there are far fewer outliers and the lack of highly paid outlier could be due to chance. We can see the distribution of wages with a histogram, using counts to save on machine processing."
   ]
  },
  {
   "cell_type": "code",
   "execution_count": 101,
   "metadata": {},
   "outputs": [
    {
     "data": {
      "image/png": "[encoded data removed]",
      "text/plain": [
       "<Figure size 432x288 with 2 Axes>"
      ]
     },
     "metadata": {
      "needs_background": "light"
     },
     "output_type": "display_data"
    }
   ],
   "source": [
    "Y_test = np.sort(Y)\n",
    "Y_count = []\n",
    "counter = 0\n",
    "bin_index = 50\n",
    "\n",
    "#Counts the Number of Observations in a bin size of 50\n",
    "for i in range(len(Y_test)):\n",
    "    if (Y_test[i] < bin_index):\n",
    "        counter+=1\n",
    "    elif (Y_test[i] >= bin_index):\n",
    "        bin_index+=50\n",
    "        Y_count.append(counter)\n",
    "        counter=0\n",
    "    i+=1\n",
    "x1 = np.arange(len(Y_count))\n",
    "x2 = np.arange(len(Y_count)-1)\n",
    "\n",
    "plt.subplot(1, 2, 1)\n",
    "plt.bar(x1,Y_count)\n",
    "plt.title(\"Frequency of Wage\")\n",
    "\n",
    "plt.subplot(1, 2, 2)\n",
    "plt.bar(x2,Y_count[1:])\n",
    "plt.title(\"lowest bracket removed\")\n",
    "plt.show()"
   ]
  },
  {
   "cell_type": "markdown",
   "metadata": {},
   "source": [
    "Each bar represents a 20000 euro increase in wage. We can see that the probability of any person having a high wage is already miniscule, on top of the probability of being an outlier in height. We can reasonably conclude that it may be coincidence that the two events have not occured together. Many techniques can also be employed to very if this is accurate, including probability calculations and simulations.\n",
    "\n",
    "Say perhaps we are not so sure how much height actually contributes to weight, and there is suspicious that height does not contribute positively to the model (i.e. it may be overfitting). We would want to make a model without height and check its performance on new data against our original model. There are many ways we can check and compare models. Comparing standard errors, new data residuals, ANOVA/deviance, cross validation, and LASSO & Bootstrap are just some of the methods employable. Model testing through R proves to be a much more manageable task than through Scikit-Learn. \n",
    "\n",
    "### Cluster Models\n",
    "\n",
    "We may be interested in seeing if there are any significant clustering patterns in our data. It can be a good way of learning group patterns (e.g. a species of Deers preferring tall grass more than other species) or getting more information out of a limited dataset. While the dataset given previously does not have significant opportunity for cluster and classification analysis, the classic [iris dataset](https://archive.ics.uci.edu/ml/datasets/iris) from UCI Machine Learning Repository is tailored towards clustering. This dataset has been employed by many data scientists and statisticians over the years to test models."
   ]
  },
  {
   "cell_type": "code",
   "execution_count": 113,
   "metadata": {
    "scrolled": true
   },
   "outputs": [
    {
     "data": {
      "text/html": [
       "<div>\n",
       "<style scoped>\n",
       "    .dataframe tbody tr th:only-of-type {\n",
       "        vertical-align: middle;\n",
       "    }\n",
       "\n",
       "    .dataframe tbody tr th {\n",
       "        vertical-align: top;\n",
       "    }\n",
       "\n",
       "    .dataframe thead th {\n",
       "        text-align: right;\n",
       "    }\n",
       "</style>\n",
       "<table border=\"1\" class=\"dataframe\">\n",
       "  <thead>\n",
       "    <tr style=\"text-align: right;\">\n",
       "      <th></th>\n",
       "      <th>sepal length</th>\n",
       "      <th>sepal width</th>\n",
       "      <th>petal length</th>\n",
       "      <th>petal width</th>\n",
       "      <th>class</th>\n",
       "    </tr>\n",
       "  </thead>\n",
       "  <tbody>\n",
       "    <tr>\n",
       "      <th>0</th>\n",
       "      <td>5.1</td>\n",
       "      <td>3.5</td>\n",
       "      <td>1.4</td>\n",
       "      <td>0.2</td>\n",
       "      <td>Iris-setosa</td>\n",
       "    </tr>\n",
       "    <tr>\n",
       "      <th>1</th>\n",
       "      <td>4.9</td>\n",
       "      <td>3.0</td>\n",
       "      <td>1.4</td>\n",
       "      <td>0.2</td>\n",
       "      <td>Iris-setosa</td>\n",
       "    </tr>\n",
       "    <tr>\n",
       "      <th>2</th>\n",
       "      <td>4.7</td>\n",
       "      <td>3.2</td>\n",
       "      <td>1.3</td>\n",
       "      <td>0.2</td>\n",
       "      <td>Iris-setosa</td>\n",
       "    </tr>\n",
       "    <tr>\n",
       "      <th>3</th>\n",
       "      <td>4.6</td>\n",
       "      <td>3.1</td>\n",
       "      <td>1.5</td>\n",
       "      <td>0.2</td>\n",
       "      <td>Iris-setosa</td>\n",
       "    </tr>\n",
       "    <tr>\n",
       "      <th>4</th>\n",
       "      <td>5.0</td>\n",
       "      <td>3.6</td>\n",
       "      <td>1.4</td>\n",
       "      <td>0.2</td>\n",
       "      <td>Iris-setosa</td>\n",
       "    </tr>\n",
       "  </tbody>\n",
       "</table>\n",
       "</div>"
      ],
      "text/plain": [
       "   sepal length  sepal width  petal length  petal width        class\n",
       "0           5.1          3.5           1.4          0.2  Iris-setosa\n",
       "1           4.9          3.0           1.4          0.2  Iris-setosa\n",
       "2           4.7          3.2           1.3          0.2  Iris-setosa\n",
       "3           4.6          3.1           1.5          0.2  Iris-setosa\n",
       "4           5.0          3.6           1.4          0.2  Iris-setosa"
      ]
     },
     "execution_count": 113,
     "metadata": {},
     "output_type": "execute_result"
    }
   ],
   "source": [
    "iris_data = pd.read_csv('iris.csv')\n",
    "iris_data.head(n=5)"
   ]
  },
  {
   "cell_type": "code",
   "execution_count": 114,
   "metadata": {},
   "outputs": [
    {
     "name": "stdout",
     "output_type": "stream",
     "text": [
      "['Iris-setosa' 'Iris-versicolor' 'Iris-virginica']\n"
     ]
    }
   ],
   "source": [
    "print(iris_data['class'].unique())"
   ]
  },
  {
   "cell_type": "code",
   "execution_count": 115,
   "metadata": {},
   "outputs": [
    {
     "data": {
      "text/plain": [
       "array([[<matplotlib.axes._subplots.AxesSubplot object at 0x00000171E12CCC50>,\n",
       "        <matplotlib.axes._subplots.AxesSubplot object at 0x00000171E16BD908>,\n",
       "        <matplotlib.axes._subplots.AxesSubplot object at 0x00000171E16DCD30>,\n",
       "        <matplotlib.axes._subplots.AxesSubplot object at 0x00000171E141D2E8>],\n",
       "       [<matplotlib.axes._subplots.AxesSubplot object at 0x00000171E1444860>,\n",
       "        <matplotlib.axes._subplots.AxesSubplot object at 0x00000171E146CDD8>,\n",
       "        <matplotlib.axes._subplots.AxesSubplot object at 0x00000171E149D390>,\n",
       "        <matplotlib.axes._subplots.AxesSubplot object at 0x00000171E14C4940>],\n",
       "       [<matplotlib.axes._subplots.AxesSubplot object at 0x00000171E14C4978>,\n",
       "        <matplotlib.axes._subplots.AxesSubplot object at 0x00000171E151C438>,\n",
       "        <matplotlib.axes._subplots.AxesSubplot object at 0x00000171E15439B0>,\n",
       "        <matplotlib.axes._subplots.AxesSubplot object at 0x00000171E156DF28>],\n",
       "       [<matplotlib.axes._subplots.AxesSubplot object at 0x00000171E159F4E0>,\n",
       "        <matplotlib.axes._subplots.AxesSubplot object at 0x00000171E15C5A58>,\n",
       "        <matplotlib.axes._subplots.AxesSubplot object at 0x00000171E15EFFD0>,\n",
       "        <matplotlib.axes._subplots.AxesSubplot object at 0x00000171E161E588>]],\n",
       "      dtype=object)"
      ]
     },
     "execution_count": 115,
     "metadata": {},
     "output_type": "execute_result"
    },
    {
     "data": {
      "image/png": "[encoded data removed]",
      "text/plain": [
       "<Figure size 864x720 with 16 Axes>"
      ]
     },
     "metadata": {
      "needs_background": "light"
     },
     "output_type": "display_data"
    }
   ],
   "source": [
    "colors = {'Iris-setosa':'green', 'Iris-versicolor':'red', 'Iris-virginica':'blue'}\n",
    "\n",
    "pd.plotting.scatter_matrix(iris_data, c=iris_data['class'].apply(lambda x: colors[x]), figsize=(12,10))"
   ]
  },
  {
   "cell_type": "markdown",
   "metadata": {},
   "source": [
    "We can see why everyone loves to use this dataset. The groups are easily distinguishable, which makes it more simple to identify problems and fixes in new algorithms and techniques. \n",
    "\n",
    "As a tool, clustering can give valuable insight into discrete information. Perhaps you want to see if there are any ways to distinguish between revenue generating visitors and non-revenue visitors. Or maybe you want to predict a person's browsing platform based on their browsing habits. Given the data, those types of questions can be further explored with clustering.\n",
    "\n",
    "Now, suppose new data was into the iris dataset, but the class was lost! In this case, we can try and predict the class with clustering. To begin, we use KNN with a neighbor of 3."
   ]
  },
  {
   "cell_type": "code",
   "execution_count": 123,
   "metadata": {},
   "outputs": [
    {
     "data": {
      "text/plain": [
       "KNeighborsClassifier(algorithm='auto', leaf_size=30, metric='minkowski',\n",
       "           metric_params=None, n_jobs=None, n_neighbors=3, p=2,\n",
       "           weights='uniform')"
      ]
     },
     "execution_count": 123,
     "metadata": {},
     "output_type": "execute_result"
    }
   ],
   "source": [
    "from sklearn.neighbors import KNeighborsClassifier\n",
    "knn = KNeighborsClassifier(n_neighbors=3)\n",
    "knn.fit(iris_data[['sepal length','sepal width']],iris_data['class'])"
   ]
  },
  {
   "cell_type": "markdown",
   "metadata": {},
   "source": [
    "This model should be able to fit new data. For instance, say we have a new flower measurement with a sepal length of 5.8 and width of 3.7. Looking closer at the graph of sepal length vs sepal width:"
   ]
  },
  {
   "cell_type": "code",
   "execution_count": 131,
   "metadata": {},
   "outputs": [
    {
     "data": {
      "text/plain": [
       "<matplotlib.collections.PathCollection at 0x171e1f419b0>"
      ]
     },
     "execution_count": 131,
     "metadata": {},
     "output_type": "execute_result"
    },
    {
     "data": {
      "image/png": "[encoded data removed]",
      "text/plain": [
       "<Figure size 432x288 with 1 Axes>"
      ]
     },
     "metadata": {
      "needs_background": "light"
     },
     "output_type": "display_data"
    }
   ],
   "source": [
    "\n",
    "plt.scatter(iris_data['sepal length'],iris_data['sepal width'], c=iris_data['class'].apply(lambda x: colors[x]))\n",
    "plt.scatter(5.8,3.7,c = 'orange')"
   ]
  },
  {
   "cell_type": "markdown",
   "metadata": {},
   "source": [
    "The new point (highlighted orange) seems to most likely be part of the green setosa class. And if we predict using the KNN model:"
   ]
  },
  {
   "cell_type": "code",
   "execution_count": 135,
   "metadata": {},
   "outputs": [
    {
     "name": "stdout",
     "output_type": "stream",
     "text": [
      "['Iris-setosa']\n"
     ]
    }
   ],
   "source": [
    "print(knn.predict([[5.8,3.7]]))"
   ]
  },
  {
   "cell_type": "markdown",
   "metadata": {},
   "source": [
    "We can see that is what the model predicts. Most clustering techniques can model with both supervised (As in this case) or unsupervised learning, and can be generalised for far more than one data point.\n",
    "\n",
    "\n",
    "## Prediction and Forecasting\n",
    "\n",
    "The model above uses euclidean distance and only predicts for 2 input variables. But euclidean distance is useless for discrete non-numerical data. What if we wanted to predict for categories using discrete non-euclidean data? We can build a more advanced model using the dataset above and neural networks. Many concepts are interchangeable between regular regression models and neural networks. \n",
    "\n",
    "In this case, we can fit a simple feed-forward neural network. First, the data must be prepared and paremeters set. In the case of training and testing a model, it is usually a good idea to divide pre-existing data by either 50/25/25 for train/cross-validate/test or 70/30 for just train/test. As we are already pretty low on data, I will be using a 70/30 split."
   ]
  },
  {
   "cell_type": "code",
   "execution_count": 196,
   "metadata": {},
   "outputs": [],
   "source": [
    "from sklearn.utils import shuffle\n",
    "\n",
    "#Creates labels for Classes\n",
    "class_label = {'Iris-setosa':0, 'Iris-versicolor':1, 'Iris-virginica':2}\n",
    "\n",
    "#Randomly Shuffles Data \n",
    "random_sample = shuffle(iris_data)\n",
    "random_sample['class'] = random_sample['class'].apply(lambda x: class_label[x])\n",
    "max_size = np.max(np.amax(random_sample))\n",
    "\n",
    "#Separates into 70/30\n",
    "div_1 = int(len(random_sample.index)*0.7)\n",
    "\n",
    "train_data = random_sample[['sepal length','sepal width','petal length','petal width']][:div_1].to_numpy()/max_size\n",
    "train_label = random_sample[['class']][:div_1].to_numpy()\n",
    "test_data = random_sample[['sepal length','sepal width','petal length','petal width']][div_1+1:].to_numpy()/max_size\n",
    "test_label = random_sample[['class']][div_1+1:].to_numpy()"
   ]
  },
  {
   "cell_type": "markdown",
   "metadata": {},
   "source": [
    "Now we can fit the model:"
   ]
  },
  {
   "cell_type": "code",
   "execution_count": 198,
   "metadata": {},
   "outputs": [
    {
     "name": "stdout",
     "output_type": "stream",
     "text": [
      "Epoch 1/50\n",
      "105/105 [==============================] - 0s 3ms/sample - loss: 1.1951 - acc: 0.3524\n",
      "Epoch 2/50\n",
      "105/105 [==============================] - 0s 67us/sample - loss: 1.1761 - acc: 0.3524\n",
      "Epoch 3/50\n",
      "105/105 [==============================] - 0s 67us/sample - loss: 1.1477 - acc: 0.3524\n",
      "Epoch 4/50\n",
      "105/105 [==============================] - 0s 67us/sample - loss: 1.1264 - acc: 0.3524\n",
      "Epoch 5/50\n",
      "105/105 [==============================] - 0s 57us/sample - loss: 1.1079 - acc: 0.3524\n",
      "Epoch 6/50\n",
      "105/105 [==============================] - 0s 57us/sample - loss: 1.0985 - acc: 0.3619\n",
      "Epoch 7/50\n",
      "105/105 [==============================] - 0s 67us/sample - loss: 1.0902 - acc: 0.3429\n",
      "Epoch 8/50\n",
      "105/105 [==============================] - 0s 67us/sample - loss: 1.0881 - acc: 0.3429\n",
      "Epoch 9/50\n",
      "105/105 [==============================] - 0s 67us/sample - loss: 1.0880 - acc: 0.3429\n",
      "Epoch 10/50\n",
      "105/105 [==============================] - 0s 57us/sample - loss: 1.0865 - acc: 0.3429\n",
      "Epoch 11/50\n",
      "105/105 [==============================] - 0s 67us/sample - loss: 1.0862 - acc: 0.3429\n",
      "Epoch 12/50\n",
      "105/105 [==============================] - 0s 67us/sample - loss: 1.0855 - acc: 0.5905\n",
      "Epoch 13/50\n",
      "105/105 [==============================] - 0s 76us/sample - loss: 1.0845 - acc: 0.6667\n",
      "Epoch 14/50\n",
      "105/105 [==============================] - 0s 67us/sample - loss: 1.0838 - acc: 0.4952\n",
      "Epoch 15/50\n",
      "105/105 [==============================] - 0s 57us/sample - loss: 1.0823 - acc: 0.3714\n",
      "Epoch 16/50\n",
      "105/105 [==============================] - 0s 57us/sample - loss: 1.0811 - acc: 0.4857\n",
      "Epoch 17/50\n",
      "105/105 [==============================] - 0s 67us/sample - loss: 1.0804 - acc: 0.3810\n",
      "Epoch 18/50\n",
      "105/105 [==============================] - 0s 86us/sample - loss: 1.0796 - acc: 0.3524\n",
      "Epoch 19/50\n",
      "105/105 [==============================] - 0s 67us/sample - loss: 1.0782 - acc: 0.3524\n",
      "Epoch 20/50\n",
      "105/105 [==============================] - 0s 76us/sample - loss: 1.0786 - acc: 0.3524\n",
      "Epoch 21/50\n",
      "105/105 [==============================] - 0s 76us/sample - loss: 1.0783 - acc: 0.3524\n",
      "Epoch 22/50\n",
      "105/105 [==============================] - 0s 76us/sample - loss: 1.0769 - acc: 0.3524\n",
      "Epoch 23/50\n",
      "105/105 [==============================] - 0s 57us/sample - loss: 1.0753 - acc: 0.3524\n",
      "Epoch 24/50\n",
      "105/105 [==============================] - 0s 57us/sample - loss: 1.0748 - acc: 0.3524\n",
      "Epoch 25/50\n",
      "105/105 [==============================] - 0s 67us/sample - loss: 1.0730 - acc: 0.3524\n",
      "Epoch 26/50\n",
      "105/105 [==============================] - 0s 67us/sample - loss: 1.0713 - acc: 0.3524\n",
      "Epoch 27/50\n",
      "105/105 [==============================] - 0s 67us/sample - loss: 1.0694 - acc: 0.3524\n",
      "Epoch 28/50\n",
      "105/105 [==============================] - 0s 57us/sample - loss: 1.0674 - acc: 0.3524\n",
      "Epoch 29/50\n",
      "105/105 [==============================] - 0s 67us/sample - loss: 1.0660 - acc: 0.3524\n",
      "Epoch 30/50\n",
      "105/105 [==============================] - 0s 67us/sample - loss: 1.0647 - acc: 0.3619\n",
      "Epoch 31/50\n",
      "105/105 [==============================] - 0s 57us/sample - loss: 1.0620 - acc: 0.3619\n",
      "Epoch 32/50\n",
      "105/105 [==============================] - 0s 76us/sample - loss: 1.0600 - acc: 0.3524\n",
      "Epoch 33/50\n",
      "105/105 [==============================] - 0s 67us/sample - loss: 1.0580 - acc: 0.3619\n",
      "Epoch 34/50\n",
      "105/105 [==============================] - 0s 76us/sample - loss: 1.0548 - acc: 0.3714\n",
      "Epoch 35/50\n",
      "105/105 [==============================] - 0s 57us/sample - loss: 1.0525 - acc: 0.3524\n",
      "Epoch 36/50\n",
      "105/105 [==============================] - 0s 76us/sample - loss: 1.0502 - acc: 0.3524\n",
      "Epoch 37/50\n",
      "105/105 [==============================] - 0s 57us/sample - loss: 1.0474 - acc: 0.3524\n",
      "Epoch 38/50\n",
      "105/105 [==============================] - 0s 57us/sample - loss: 1.0449 - acc: 0.3524\n",
      "Epoch 39/50\n",
      "105/105 [==============================] - 0s 57us/sample - loss: 1.0425 - acc: 0.3619\n",
      "Epoch 40/50\n",
      "105/105 [==============================] - 0s 67us/sample - loss: 1.0399 - acc: 0.4286\n",
      "Epoch 41/50\n",
      "105/105 [==============================] - 0s 57us/sample - loss: 1.0368 - acc: 0.6857\n",
      "Epoch 42/50\n",
      "105/105 [==============================] - 0s 57us/sample - loss: 1.0337 - acc: 0.7238\n",
      "Epoch 43/50\n",
      "105/105 [==============================] - 0s 57us/sample - loss: 1.0307 - acc: 0.7048\n",
      "Epoch 44/50\n",
      "105/105 [==============================] - 0s 57us/sample - loss: 1.0273 - acc: 0.8381\n",
      "Epoch 45/50\n",
      "105/105 [==============================] - 0s 57us/sample - loss: 1.0238 - acc: 0.9333\n",
      "Epoch 46/50\n",
      "105/105 [==============================] - 0s 67us/sample - loss: 1.0208 - acc: 0.7048\n",
      "Epoch 47/50\n",
      "105/105 [==============================] - 0s 57us/sample - loss: 1.0176 - acc: 0.6571\n",
      "Epoch 48/50\n",
      "105/105 [==============================] - 0s 57us/sample - loss: 1.0132 - acc: 0.6571\n",
      "Epoch 49/50\n",
      "105/105 [==============================] - 0s 57us/sample - loss: 1.0099 - acc: 0.7238\n",
      "Epoch 50/50\n",
      "105/105 [==============================] - 0s 67us/sample - loss: 1.0052 - acc: 0.8667\n"
     ]
    }
   ],
   "source": [
    "model = keras.Sequential([\n",
    "    #keras.layers.Flatten(input_shape=(4,)),\n",
    "    keras.layers.Dense(5, activation=tf.nn.relu, input_shape=(4,)),\n",
    "    keras.layers.Dense(6, activation=tf.nn.sigmoid),\n",
    "    keras.layers.Dense(3, activation=tf.nn.softmax)\n",
    "])\n",
    "model.compile(optimizer=opt, loss='sparse_categorical_crossentropy',metrics=['accuracy'])\n",
    "\n",
    "history = model.fit(train_data,train_label, epochs = 50)"
   ]
  },
  {
   "cell_type": "markdown",
   "metadata": {},
   "source": [
    "We can now check the model's fit history over time:\n"
   ]
  },
  {
   "cell_type": "code",
   "execution_count": 202,
   "metadata": {},
   "outputs": [
    {
     "data": {
      "image/png": "[encoded data removed]",
      "text/plain": [
       "<Figure size 432x288 with 2 Axes>"
      ]
     },
     "metadata": {
      "needs_background": "light"
     },
     "output_type": "display_data"
    }
   ],
   "source": [
    "history_dict = history.history\n",
    "\n",
    "acc = history_dict['acc']\n",
    "loss = history_dict['loss']\n",
    "\n",
    "epochs = range(1, len(acc) + 1)\n",
    "\n",
    "plt.subplot(1, 2, 1)\n",
    "plt.plot(epochs, acc)\n",
    "plt.title('Training Acc')\n",
    "plt.xlabel('Epochs')\n",
    "plt.ylabel('Acc')\n",
    "\n",
    "plt.subplot(1, 2, 2)\n",
    "plt.plot(epochs, loss)\n",
    "plt.title('Training loss')\n",
    "plt.xlabel('Epochs')\n",
    "plt.ylabel('Loss')\n",
    "plt.show()"
   ]
  },
  {
   "cell_type": "markdown",
   "metadata": {},
   "source": [
    "We can see that the accuracy of the model is very unstable even as the training loss is constantly decreasing. This may be an effect of a small dataset, and may be a sign of excess overfitting in the model. So, we test the model with the testing subset."
   ]
  },
  {
   "cell_type": "code",
   "execution_count": 207,
   "metadata": {},
   "outputs": [
    {
     "name": "stdout",
     "output_type": "stream",
     "text": [
      "Testing accuracy is 77.27272727272727%\n"
     ]
    }
   ],
   "source": [
    "predictions = model.predict(test_data)\n",
    "accCount = 0\n",
    "\n",
    "for i in range(len(test_label)):\n",
    "    if np.argmax(predictions[i]) == test_label[i]:\n",
    "        accCount+=1\n",
    "\n",
    "print(\"Testing accuracy is {}%\".format(accCount*100/len(test_label)))"
   ]
  },
  {
   "cell_type": "markdown",
   "metadata": {},
   "source": [
    "Our model is some degree of overfitting, since the accuracy on the training data was 86.67%. With that being said, an accuracy of 77% is still pretty good for a simple model. \n",
    "\n",
    "Graphing for two predictors for simplicity:"
   ]
  },
  {
   "cell_type": "code",
   "execution_count": 221,
   "metadata": {},
   "outputs": [
    {
     "data": {
      "text/plain": [
       "<matplotlib.collections.PathCollection at 0x171fcd11ef0>"
      ]
     },
     "execution_count": 221,
     "metadata": {},
     "output_type": "execute_result"
    },
    {
     "data": {
      "image/png": "[encoded data removed]",
      "text/plain": [
       "<Figure size 432x288 with 1 Axes>"
      ]
     },
     "metadata": {
      "needs_background": "light"
     },
     "output_type": "display_data"
    }
   ],
   "source": [
    "plt.scatter(iris_data['sepal length'],iris_data['sepal width'], c=iris_data['class'].apply(lambda x: colors[x]))\n",
    "plt.scatter(test_data[:,0]*max_size,test_data[:,1]*max_size,c='orange')"
   ]
  },
  {
   "cell_type": "markdown",
   "metadata": {},
   "source": [
    "The orange data points are testing data points, and were not used to fit the model. And showing which of the data points were predicted incorrectly:"
   ]
  },
  {
   "cell_type": "code",
   "execution_count": 247,
   "metadata": {},
   "outputs": [
    {
     "data": {
      "text/plain": [
       "<matplotlib.collections.PathCollection at 0x171fce4bd30>"
      ]
     },
     "execution_count": 247,
     "metadata": {},
     "output_type": "execute_result"
    },
    {
     "data": {
      "image/png": "[encoded data removed]",
      "text/plain": [
       "<Figure size 432x288 with 1 Axes>"
      ]
     },
     "metadata": {
      "needs_background": "light"
     },
     "output_type": "display_data"
    }
   ],
   "source": [
    "wrong_predictions = np.zeros((len(test_label)-accCount,4))\n",
    "counter = 0\n",
    "\n",
    "for i in range(len(test_label)):\n",
    "    if not (np.argmax(predictions[i]) == test_label[i]):\n",
    "        for c in range(4):\n",
    "            wrong_predictions[counter,c-1] = test_data[i,c-1]\n",
    "        counter+=1\n",
    "\n",
    "plt.scatter(iris_data['sepal length'],iris_data['sepal width'], c=iris_data['class'].apply(lambda x: colors[x]))\n",
    "plt.scatter(wrong_predictions[:,0]*max_size,wrong_predictions[:,1]*max_size,c='yellow')\n"
   ]
  },
  {
   "cell_type": "markdown",
   "metadata": {},
   "source": [
    "We can see that the datapoints that the model incorrectly predicted are reasonably difficult to predict for."
   ]
  }
 ],
 "metadata": {
  "kernelspec": {
   "display_name": "Python 3",
   "language": "python",
   "name": "python3"
  },
  "language_info": {
   "codemirror_mode": {
    "name": "ipython",
    "version": 3
   },
   "file_extension": ".py",
   "mimetype": "text/x-python",
   "name": "python",
   "nbconvert_exporter": "python",
   "pygments_lexer": "ipython3",
   "version": "3.6.8"
  }
 },
 "nbformat": 4,
 "nbformat_minor": 2
}
